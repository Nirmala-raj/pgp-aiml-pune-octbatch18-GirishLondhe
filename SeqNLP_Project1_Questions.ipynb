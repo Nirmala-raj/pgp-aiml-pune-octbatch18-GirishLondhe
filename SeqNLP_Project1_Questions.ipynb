{
  "nbformat": 4,
  "nbformat_minor": 0,
  "metadata": {
    "colab": {
      "name": "SeqNLP_Project1_Questions.ipynb",
      "version": "0.3.2",
      "provenance": [],
      "collapsed_sections": []
    },
    "language_info": {
      "codemirror_mode": {
        "name": "ipython",
        "version": 2
      },
      "file_extension": ".py",
      "mimetype": "text/x-python",
      "name": "python",
      "nbconvert_exporter": "python",
      "pygments_lexer": "ipython2",
      "version": "2.7.14"
    },
    "kernelspec": {
      "name": "python2",
      "display_name": "Python 2"
    },
    "accelerator": "GPU"
  },
  "cells": [
    {
      "cell_type": "markdown",
      "metadata": {
        "colab_type": "text",
        "id": "xT7MKZuMRaCg"
      },
      "source": [
        "# Sentiment Classification\n",
        "\n",
        "\n",
        "### Generate Word Embeddings and retrieve outputs of each layer with Keras based on Classification task\n",
        "\n",
        "Word embeddings are a type of word representation that allows words with similar meaning to have a similar representation.\n",
        "\n",
        "It is a distributed representation for text that is perhaps one of the key breakthroughs for the impressive performance of deep learning methods on challenging natural language processing problems.\n",
        "\n",
        "We willl use the imdb dataset to learn word embeddings as we train our dataset. This dataset contains 25,000 movie reviews from IMDB, labeled with sentiment (positive or negative). \n",
        "\n",
        "\n",
        "\n",
        "### Dataset\n",
        "\n",
        "`from keras.datasets import imdb`\n",
        "\n",
        "Dataset of 25,000 movies reviews from IMDB, labeled by sentiment (positive/negative). Reviews have been preprocessed, and each review is encoded as a sequence of word indexes (integers). For convenience, the words are indexed by their frequency in the dataset, meaning the for that has index 1 is the most frequent word. Use the first 20 words from each review to speed up training, using a max vocab size of 10,000.\n",
        "\n",
        "As a convention, \"0\" does not stand for a specific word, but instead is used to encode any unknown word.\n",
        "\n",
        "\n",
        "### Aim\n",
        "\n",
        "1. Import test and train data  \n",
        "2. Import the labels ( train and test) \n",
        "3. Get the word index and then Create key value pair for word and word_id. (12.5 points)\n",
        "4. Build a Sequential Model using Keras for Sentiment Classification task. (10 points)\n",
        "5. Report the Accuracy of the model. (5 points)  \n",
        "6. Retrive the output of each layer in keras for a given single test sample from the trained model you built. (2.5 points)\n"
      ]
    },
    {
      "cell_type": "code",
      "metadata": {
        "id": "8tMrMD91fAVb",
        "colab_type": "code",
        "colab": {}
      },
      "source": [
        "import numpy as np"
      ],
      "execution_count": 0,
      "outputs": []
    },
    {
      "cell_type": "markdown",
      "metadata": {
        "colab_type": "text",
        "id": "Wq4RCyyPSYRp"
      },
      "source": [
        "#### Usage:"
      ]
    },
    {
      "cell_type": "code",
      "metadata": {
        "colab_type": "code",
        "id": "NGCtiXUhSWss",
        "colab": {
          "base_uri": "https://localhost:8080/",
          "height": 224
        },
        "outputId": "e0fa1f12-4b08-4b9b-8961-b4b4b74b96c8"
      },
      "source": [
        "from keras.datasets import imdb\n",
        "\n",
        "# save np.load\n",
        "np_load_old = np.load\n",
        "\n",
        "# modify the default parameters of np.load\n",
        "np.load = lambda *a,**k: np_load_old(*a, allow_pickle=True, **k)\n",
        "\n",
        "vocab_size = 10000 #vocab size\n",
        "\n",
        "(x_train, y_train), (x_test, y_test) = imdb.load_data(num_words=vocab_size) # vocab_size is no.of words to consider from the dataset, ordering based on frequency.\n",
        "\n",
        "\n",
        "# restore np.load for future normal usage\n",
        "np.load = np_load_old\n",
        "\n",
        "\n",
        "x_train"
      ],
      "execution_count": 3,
      "outputs": [
        {
          "output_type": "stream",
          "text": [
            "Downloading data from https://s3.amazonaws.com/text-datasets/imdb.npz\n",
            "17465344/17464789 [==============================] - 0s 0us/step\n",
            "17473536/17464789 [==============================] - 0s 0us/step\n"
          ],
          "name": "stdout"
        },
        {
          "output_type": "execute_result",
          "data": {
            "text/plain": [
              "array([list([1, 14, 22, 16, 43, 530, 973, 1622, 1385, 65, 458, 4468, 66, 3941, 4, 173, 36, 256, 5, 25, 100, 43, 838, 112, 50, 670, 2, 9, 35, 480, 284, 5, 150, 4, 172, 112, 167, 2, 336, 385, 39, 4, 172, 4536, 1111, 17, 546, 38, 13, 447, 4, 192, 50, 16, 6, 147, 2025, 19, 14, 22, 4, 1920, 4613, 469, 4, 22, 71, 87, 12, 16, 43, 530, 38, 76, 15, 13, 1247, 4, 22, 17, 515, 17, 12, 16, 626, 18, 2, 5, 62, 386, 12, 8, 316, 8, 106, 5, 4, 2223, 5244, 16, 480, 66, 3785, 33, 4, 130, 12, 16, 38, 619, 5, 25, 124, 51, 36, 135, 48, 25, 1415, 33, 6, 22, 12, 215, 28, 77, 52, 5, 14, 407, 16, 82, 2, 8, 4, 107, 117, 5952, 15, 256, 4, 2, 7, 3766, 5, 723, 36, 71, 43, 530, 476, 26, 400, 317, 46, 7, 4, 2, 1029, 13, 104, 88, 4, 381, 15, 297, 98, 32, 2071, 56, 26, 141, 6, 194, 7486, 18, 4, 226, 22, 21, 134, 476, 26, 480, 5, 144, 30, 5535, 18, 51, 36, 28, 224, 92, 25, 104, 4, 226, 65, 16, 38, 1334, 88, 12, 16, 283, 5, 16, 4472, 113, 103, 32, 15, 16, 5345, 19, 178, 32]),\n",
              "       list([1, 194, 1153, 194, 8255, 78, 228, 5, 6, 1463, 4369, 5012, 134, 26, 4, 715, 8, 118, 1634, 14, 394, 20, 13, 119, 954, 189, 102, 5, 207, 110, 3103, 21, 14, 69, 188, 8, 30, 23, 7, 4, 249, 126, 93, 4, 114, 9, 2300, 1523, 5, 647, 4, 116, 9, 35, 8163, 4, 229, 9, 340, 1322, 4, 118, 9, 4, 130, 4901, 19, 4, 1002, 5, 89, 29, 952, 46, 37, 4, 455, 9, 45, 43, 38, 1543, 1905, 398, 4, 1649, 26, 6853, 5, 163, 11, 3215, 2, 4, 1153, 9, 194, 775, 7, 8255, 2, 349, 2637, 148, 605, 2, 8003, 15, 123, 125, 68, 2, 6853, 15, 349, 165, 4362, 98, 5, 4, 228, 9, 43, 2, 1157, 15, 299, 120, 5, 120, 174, 11, 220, 175, 136, 50, 9, 4373, 228, 8255, 5, 2, 656, 245, 2350, 5, 4, 9837, 131, 152, 491, 18, 2, 32, 7464, 1212, 14, 9, 6, 371, 78, 22, 625, 64, 1382, 9, 8, 168, 145, 23, 4, 1690, 15, 16, 4, 1355, 5, 28, 6, 52, 154, 462, 33, 89, 78, 285, 16, 145, 95]),\n",
              "       list([1, 14, 47, 8, 30, 31, 7, 4, 249, 108, 7, 4, 5974, 54, 61, 369, 13, 71, 149, 14, 22, 112, 4, 2401, 311, 12, 16, 3711, 33, 75, 43, 1829, 296, 4, 86, 320, 35, 534, 19, 263, 4821, 1301, 4, 1873, 33, 89, 78, 12, 66, 16, 4, 360, 7, 4, 58, 316, 334, 11, 4, 1716, 43, 645, 662, 8, 257, 85, 1200, 42, 1228, 2578, 83, 68, 3912, 15, 36, 165, 1539, 278, 36, 69, 2, 780, 8, 106, 14, 6905, 1338, 18, 6, 22, 12, 215, 28, 610, 40, 6, 87, 326, 23, 2300, 21, 23, 22, 12, 272, 40, 57, 31, 11, 4, 22, 47, 6, 2307, 51, 9, 170, 23, 595, 116, 595, 1352, 13, 191, 79, 638, 89, 2, 14, 9, 8, 106, 607, 624, 35, 534, 6, 227, 7, 129, 113]),\n",
              "       ...,\n",
              "       list([1, 11, 6, 230, 245, 6401, 9, 6, 1225, 446, 2, 45, 2174, 84, 8322, 4007, 21, 4, 912, 84, 2, 325, 725, 134, 2, 1715, 84, 5, 36, 28, 57, 1099, 21, 8, 140, 8, 703, 5, 2, 84, 56, 18, 1644, 14, 9, 31, 7, 4, 9406, 1209, 2295, 2, 1008, 18, 6, 20, 207, 110, 563, 12, 8, 2901, 2, 8, 97, 6, 20, 53, 4767, 74, 4, 460, 364, 1273, 29, 270, 11, 960, 108, 45, 40, 29, 2961, 395, 11, 6, 4065, 500, 7, 2, 89, 364, 70, 29, 140, 4, 64, 4780, 11, 4, 2678, 26, 178, 4, 529, 443, 2, 5, 27, 710, 117, 2, 8123, 165, 47, 84, 37, 131, 818, 14, 595, 10, 10, 61, 1242, 1209, 10, 10, 288, 2260, 1702, 34, 2901, 2, 4, 65, 496, 4, 231, 7, 790, 5, 6, 320, 234, 2766, 234, 1119, 1574, 7, 496, 4, 139, 929, 2901, 2, 7750, 5, 4241, 18, 4, 8497, 2, 250, 11, 1818, 7561, 4, 4217, 5408, 747, 1115, 372, 1890, 1006, 541, 9303, 7, 4, 59, 2, 4, 3586, 2]),\n",
              "       list([1, 1446, 7079, 69, 72, 3305, 13, 610, 930, 8, 12, 582, 23, 5, 16, 484, 685, 54, 349, 11, 4120, 2959, 45, 58, 1466, 13, 197, 12, 16, 43, 23, 2, 5, 62, 30, 145, 402, 11, 4131, 51, 575, 32, 61, 369, 71, 66, 770, 12, 1054, 75, 100, 2198, 8, 4, 105, 37, 69, 147, 712, 75, 3543, 44, 257, 390, 5, 69, 263, 514, 105, 50, 286, 1814, 23, 4, 123, 13, 161, 40, 5, 421, 4, 116, 16, 897, 13, 2, 40, 319, 5872, 112, 6700, 11, 4803, 121, 25, 70, 3468, 4, 719, 3798, 13, 18, 31, 62, 40, 8, 7200, 4, 2, 7, 14, 123, 5, 942, 25, 8, 721, 12, 145, 5, 202, 12, 160, 580, 202, 12, 6, 52, 58, 2, 92, 401, 728, 12, 39, 14, 251, 8, 15, 251, 5, 2, 12, 38, 84, 80, 124, 12, 9, 23]),\n",
              "       list([1, 17, 6, 194, 337, 7, 4, 204, 22, 45, 254, 8, 106, 14, 123, 4, 2, 270, 2, 5, 2, 2, 732, 2098, 101, 405, 39, 14, 1034, 4, 1310, 9, 115, 50, 305, 12, 47, 4, 168, 5, 235, 7, 38, 111, 699, 102, 7, 4, 4039, 9245, 9, 24, 6, 78, 1099, 17, 2345, 2, 21, 27, 9685, 6139, 5, 2, 1603, 92, 1183, 4, 1310, 7, 4, 204, 42, 97, 90, 35, 221, 109, 29, 127, 27, 118, 8, 97, 12, 157, 21, 6789, 2, 9, 6, 66, 78, 1099, 4, 631, 1191, 5, 2642, 272, 191, 1070, 6, 7585, 8, 2197, 2, 2, 544, 5, 383, 1271, 848, 1468, 2, 497, 2, 8, 1597, 8778, 2, 21, 60, 27, 239, 9, 43, 8368, 209, 405, 10, 10, 12, 764, 40, 4, 248, 20, 12, 16, 5, 174, 1791, 72, 7, 51, 6, 1739, 22, 4, 204, 131, 9])],\n",
              "      dtype=object)"
            ]
          },
          "metadata": {
            "tags": []
          },
          "execution_count": 3
        }
      ]
    },
    {
      "cell_type": "code",
      "metadata": {
        "id": "fCPC_WN-eCyw",
        "colab_type": "code",
        "colab": {}
      },
      "source": [
        "from keras.preprocessing.sequence import pad_sequences\n",
        "vocab_size = 10000 #vocab size\n",
        "maxlen = 20  #number of word used from each review"
      ],
      "execution_count": 0,
      "outputs": []
    },
    {
      "cell_type": "code",
      "metadata": {
        "id": "h0g381XzeCyz",
        "colab_type": "code",
        "colab": {}
      },
      "source": [
        "#make all sequences of the same length\n",
        "x_train = pad_sequences(x_train, maxlen=maxlen)\n",
        "x_test =  pad_sequences(x_test, maxlen=maxlen)"
      ],
      "execution_count": 0,
      "outputs": []
    },
    {
      "cell_type": "code",
      "metadata": {
        "id": "Jy6n-uM2eCy2",
        "colab_type": "code",
        "colab": {
          "base_uri": "https://localhost:8080/",
          "height": 136
        },
        "outputId": "15af2729-05e7-4f3e-c8b7-958461c0b21a"
      },
      "source": [
        "x_train"
      ],
      "execution_count": 35,
      "outputs": [
        {
          "output_type": "execute_result",
          "data": {
            "text/plain": [
              "array([[  65,   16,   38, ...,   19,  178,   32],\n",
              "       [  23,    4, 1690, ...,   16,  145,   95],\n",
              "       [1352,   13,  191, ...,    7,  129,  113],\n",
              "       ...,\n",
              "       [  11, 1818, 7561, ...,    4, 3586,    2],\n",
              "       [  92,  401,  728, ...,   12,    9,   23],\n",
              "       [ 764,   40,    4, ...,  204,  131,    9]], dtype=int32)"
            ]
          },
          "metadata": {
            "tags": []
          },
          "execution_count": 35
        }
      ]
    },
    {
      "cell_type": "code",
      "metadata": {
        "id": "tZhMAgaNeCy5",
        "colab_type": "code",
        "colab": {
          "base_uri": "https://localhost:8080/",
          "height": 34
        },
        "outputId": "87078962-db63-484a-bf33-fb8d4e132597"
      },
      "source": [
        "y_train"
      ],
      "execution_count": 7,
      "outputs": [
        {
          "output_type": "execute_result",
          "data": {
            "text/plain": [
              "array([1, 0, 0, ..., 0, 1, 0])"
            ]
          },
          "metadata": {
            "tags": []
          },
          "execution_count": 7
        }
      ]
    },
    {
      "cell_type": "markdown",
      "metadata": {
        "id": "dybtUgUReCy8",
        "colab_type": "text"
      },
      "source": [
        "## Build Keras Embedding Layer Model\n",
        "We can think of the Embedding layer as a dicionary that maps a index assigned to a word to a word vector. This layer is very flexible and can be used in a few ways:\n",
        "\n",
        "* The embedding layer can be used at the start of a larger deep learning model. \n",
        "* Also we could load pre-train word embeddings into the embedding layer when we create our model.\n",
        "* Use the embedding layer to train our own word2vec models.\n",
        "\n",
        "The keras embedding layer doesn't require us to onehot encode our words, instead we have to give each word a unqiue intger number as an id. For the imdb dataset we've loaded this has already been done, but if this wasn't the case we could use sklearn [LabelEncoder](http://scikit-learn.org/stable/modules/generated/sklearn.preprocessing.LabelEncoder.html)."
      ]
    },
    {
      "cell_type": "code",
      "metadata": {
        "id": "A5OLM4eBeCy9",
        "colab_type": "code",
        "colab": {
          "base_uri": "https://localhost:8080/",
          "height": 190
        },
        "outputId": "2f4107dc-b717-48d3-ce48-5838fe0703eb"
      },
      "source": [
        "from keras.models import Sequential\n",
        "from keras.layers import LSTM, SimpleRNN, Dense\n",
        "from keras.layers import Flatten\n",
        "from keras.layers.embeddings import Embedding\n",
        "\n",
        "# define the model\n",
        "model = Sequential()\n",
        "model.add(Embedding(vocab_size, 8, input_length=maxlen))\n",
        "model.add(\n",
        "    SimpleRNN(\n",
        "        1, return_sequences=False, dropout=0.1))\n",
        "model.add(Dense(1, activation='sigmoid'))"
      ],
      "execution_count": 10,
      "outputs": [
        {
          "output_type": "stream",
          "text": [
            "W0630 08:23:20.524909 140370308241280 deprecation_wrapper.py:119] From /usr/local/lib/python2.7/dist-packages/keras/backend/tensorflow_backend.py:517: The name tf.placeholder is deprecated. Please use tf.compat.v1.placeholder instead.\n",
            "\n",
            "W0630 08:23:20.538605 140370308241280 deprecation_wrapper.py:119] From /usr/local/lib/python2.7/dist-packages/keras/backend/tensorflow_backend.py:4138: The name tf.random_uniform is deprecated. Please use tf.random.uniform instead.\n",
            "\n",
            "W0630 08:23:20.607131 140370308241280 deprecation_wrapper.py:119] From /usr/local/lib/python2.7/dist-packages/keras/backend/tensorflow_backend.py:133: The name tf.placeholder_with_default is deprecated. Please use tf.compat.v1.placeholder_with_default instead.\n",
            "\n",
            "W0630 08:23:20.617249 140370308241280 deprecation.py:506] From /usr/local/lib/python2.7/dist-packages/keras/backend/tensorflow_backend.py:3445: calling dropout (from tensorflow.python.ops.nn_ops) with keep_prob is deprecated and will be removed in a future version.\n",
            "Instructions for updating:\n",
            "Please use `rate` instead of `keep_prob`. Rate should be set to `rate = 1 - keep_prob`.\n"
          ],
          "name": "stderr"
        }
      ]
    },
    {
      "cell_type": "code",
      "metadata": {
        "id": "TxNDNhrseCzA",
        "colab_type": "code",
        "colab": {
          "base_uri": "https://localhost:8080/",
          "height": 255
        },
        "outputId": "f1868c5e-52cc-4e80-e2f1-bb597e53f528"
      },
      "source": [
        "# compile the model\n",
        "model.compile(optimizer='adam', loss='binary_crossentropy', metrics=['acc'])\n",
        "# summarize the model\n",
        "print(model.summary())"
      ],
      "execution_count": 18,
      "outputs": [
        {
          "output_type": "stream",
          "text": [
            "_________________________________________________________________\n",
            "Layer (type)                 Output Shape              Param #   \n",
            "=================================================================\n",
            "embedding_1 (Embedding)      (None, 20, 8)             80000     \n",
            "_________________________________________________________________\n",
            "simple_rnn_1 (SimpleRNN)     (None, 1)                 10        \n",
            "_________________________________________________________________\n",
            "dense_1 (Dense)              (None, 1)                 2         \n",
            "=================================================================\n",
            "Total params: 80,012\n",
            "Trainable params: 80,012\n",
            "Non-trainable params: 0\n",
            "_________________________________________________________________\n",
            "None\n"
          ],
          "name": "stdout"
        }
      ]
    },
    {
      "cell_type": "code",
      "metadata": {
        "id": "L3CSVVPPeCzD",
        "colab_type": "code",
        "colab": {
          "base_uri": "https://localhost:8080/",
          "height": 731
        },
        "outputId": "3974d20b-bb3f-4565-91ea-310860cc00b9"
      },
      "source": [
        "# fit the model\n",
        "model.fit(x_train, y_train,batch_size=20, epochs=20, verbose=1)\n",
        "# evaluate the model\n",
        "loss, accuracy = model.evaluate(x_test, y_test, verbose=1)\n",
        "print('Accuracy: %f' % (accuracy*100))\n"
      ],
      "execution_count": 46,
      "outputs": [
        {
          "output_type": "stream",
          "text": [
            "Epoch 1/20\n",
            "25000/25000 [==============================] - 16s 621us/step - loss: 0.2157 - acc: 0.9305\n",
            "Epoch 2/20\n",
            "25000/25000 [==============================] - 16s 627us/step - loss: 0.2146 - acc: 0.9314\n",
            "Epoch 3/20\n",
            "25000/25000 [==============================] - 16s 626us/step - loss: 0.2135 - acc: 0.9322\n",
            "Epoch 4/20\n",
            "25000/25000 [==============================] - 16s 620us/step - loss: 0.2133 - acc: 0.9308\n",
            "Epoch 5/20\n",
            "25000/25000 [==============================] - 15s 619us/step - loss: 0.2129 - acc: 0.9317\n",
            "Epoch 6/20\n",
            "25000/25000 [==============================] - 15s 617us/step - loss: 0.2122 - acc: 0.9337\n",
            "Epoch 7/20\n",
            "25000/25000 [==============================] - 15s 615us/step - loss: 0.2135 - acc: 0.9304\n",
            "Epoch 8/20\n",
            "25000/25000 [==============================] - 16s 622us/step - loss: 0.2131 - acc: 0.9320\n",
            "Epoch 9/20\n",
            "25000/25000 [==============================] - 15s 616us/step - loss: 0.2139 - acc: 0.9323\n",
            "Epoch 10/20\n",
            "25000/25000 [==============================] - 15s 616us/step - loss: 0.2111 - acc: 0.9336\n",
            "Epoch 11/20\n",
            "25000/25000 [==============================] - 15s 615us/step - loss: 0.2116 - acc: 0.9327\n",
            "Epoch 12/20\n",
            "25000/25000 [==============================] - 15s 617us/step - loss: 0.2120 - acc: 0.9330\n",
            "Epoch 13/20\n",
            "25000/25000 [==============================] - 16s 621us/step - loss: 0.2124 - acc: 0.9316\n",
            "Epoch 14/20\n",
            "25000/25000 [==============================] - 15s 617us/step - loss: 0.2102 - acc: 0.9336\n",
            "Epoch 15/20\n",
            "25000/25000 [==============================] - 15s 614us/step - loss: 0.2108 - acc: 0.9336\n",
            "Epoch 16/20\n",
            "25000/25000 [==============================] - 15s 618us/step - loss: 0.2099 - acc: 0.9339\n",
            "Epoch 17/20\n",
            "25000/25000 [==============================] - 15s 616us/step - loss: 0.2110 - acc: 0.9340\n",
            "Epoch 18/20\n",
            "25000/25000 [==============================] - 16s 621us/step - loss: 0.2100 - acc: 0.9339\n",
            "Epoch 19/20\n",
            "25000/25000 [==============================] - 15s 615us/step - loss: 0.2103 - acc: 0.9330\n",
            "Epoch 20/20\n",
            "25000/25000 [==============================] - 15s 616us/step - loss: 0.2099 - acc: 0.9349\n",
            "25000/25000 [==============================] - 5s 219us/step\n",
            "Accuracy: 70.000000\n"
          ],
          "name": "stdout"
        }
      ]
    },
    {
      "cell_type": "markdown",
      "metadata": {
        "id": "Igq8Qm8GeCzG",
        "colab_type": "text"
      },
      "source": [
        "## Retrive the output of each layer in keras for a given single test sample from the trained model you built"
      ]
    },
    {
      "cell_type": "code",
      "metadata": {
        "id": "0AqOnLa2eCzH",
        "colab_type": "code",
        "colab": {}
      },
      "source": [
        "#Created a function to get output for each layer using Keras Function\n",
        "\n",
        "from keras import backend as K\n",
        "\n",
        "inp = model.input                                           # input placeholder\n",
        "outputs = [layer.output for layer in model.layers]          # all layer outputs\n",
        "functors = [K.function([inp, K.learning_phase()], [out]) for out in outputs]    # evaluation functions\n"
      ],
      "execution_count": 0,
      "outputs": []
    },
    {
      "cell_type": "code",
      "metadata": {
        "id": "wVM0HrDuCiL1",
        "colab_type": "code",
        "colab": {
          "base_uri": "https://localhost:8080/",
          "height": 68
        },
        "outputId": "c580a20b-6eea-4e13-d5e4-4a273566bae1"
      },
      "source": [
        "x_train[1].reshape(1,20)"
      ],
      "execution_count": 49,
      "outputs": [
        {
          "output_type": "execute_result",
          "data": {
            "text/plain": [
              "array([[  23,    4, 1690,   15,   16,    4, 1355,    5,   28,    6,   52,\n",
              "         154,  462,   33,   89,   78,  285,   16,  145,   95]],\n",
              "      dtype=int32)"
            ]
          },
          "metadata": {
            "tags": []
          },
          "execution_count": 49
        }
      ]
    },
    {
      "cell_type": "code",
      "metadata": {
        "id": "-dUDSg7VeCzM",
        "colab_type": "code",
        "colab": {
          "base_uri": "https://localhost:8080/",
          "height": 1000
        },
        "outputId": "8d0707e1-5ec1-41e5-e048-e0c31dc92111"
      },
      "source": [
        "# Passed x_train single row to function and output is recieved.\n",
        "\n",
        "layer_outs = [func([x_train[2].reshape(1,20), 1.]) for func in functors]\n",
        "print layer_outs"
      ],
      "execution_count": 53,
      "outputs": [
        {
          "output_type": "stream",
          "text": [
            "[[array([[[ 2.19319269e-01, -9.21702571e-03,  1.34506822e-01,\n",
            "          9.76549760e-02, -1.87273845e-01, -1.05265282e-01,\n",
            "          6.50103018e-02, -5.37668765e-02],\n",
            "        [-3.49600874e-02, -6.79610968e-02, -8.13248567e-03,\n",
            "         -1.47515619e-02,  4.20538709e-02,  1.92904007e-02,\n",
            "          5.64743823e-04,  1.68797709e-02],\n",
            "        [ 1.14885401e-02,  5.81286773e-02,  1.62117518e-02,\n",
            "         -6.45283163e-02,  4.89249779e-03,  3.31173725e-02,\n",
            "          4.35640141e-02,  3.54136666e-03],\n",
            "        [-3.74605432e-02, -2.98223998e-02,  1.71214323e-02,\n",
            "          5.75009994e-02,  2.84163840e-02,  6.42462587e-03,\n",
            "          4.02870635e-03,  2.69408803e-02],\n",
            "        [-2.51379469e-03,  6.22642180e-03,  9.23890546e-02,\n",
            "         -7.36247227e-02, -4.63870876e-02,  1.17304862e-01,\n",
            "         -6.10554740e-02, -1.11838141e-02],\n",
            "        [ 1.83566958e-02, -1.06423654e-01, -3.34315300e-02,\n",
            "         -6.03454970e-02,  6.19241521e-02,  5.04820049e-02,\n",
            "         -7.26725832e-02,  4.16062362e-02],\n",
            "        [-3.77443545e-02, -3.98493931e-02, -6.64518401e-03,\n",
            "         -4.14319262e-02, -1.89218000e-02,  2.63528712e-02,\n",
            "         -4.00627293e-02,  2.90950872e-02],\n",
            "        [-9.87198204e-02, -3.33632939e-02, -9.56353620e-02,\n",
            "         -8.09074491e-02,  4.50988673e-02,  5.24179526e-02,\n",
            "         -7.96619579e-02,  4.96599451e-02],\n",
            "        [-9.76652466e-03,  2.00314466e-02,  1.54047133e-02,\n",
            "          6.68266788e-02, -1.98002961e-02, -6.05695546e-02,\n",
            "          6.16915710e-02, -2.90648062e-02],\n",
            "        [-1.59638729e-02, -7.45116035e-03, -2.30447147e-02,\n",
            "         -4.20350395e-02,  1.19438367e-02,  2.10013092e-02,\n",
            "          3.17568847e-05,  1.60400812e-02],\n",
            "        [ 7.12712258e-02,  7.36671239e-02,  1.17704399e-01,\n",
            "          2.13863309e-02, -2.16097888e-02,  9.50263441e-03,\n",
            "          5.03568724e-02, -5.10650910e-02],\n",
            "        [-5.50729752e-01, -4.46962476e-01, -5.32604456e-01,\n",
            "         -4.70806360e-01,  4.99448031e-01,  4.93149608e-01,\n",
            "         -4.37542558e-01,  5.30423284e-01],\n",
            "        [ 2.12419108e-02,  3.25049460e-02,  8.32191855e-03,\n",
            "          3.53036784e-02, -3.43372822e-02, -3.72973806e-03,\n",
            "          3.10804341e-02,  5.65815866e-02],\n",
            "        [-2.64027864e-02,  6.37903437e-02,  9.24844965e-02,\n",
            "          7.75738060e-02, -7.21914545e-02, -8.02962258e-02,\n",
            "          5.80554865e-02, -1.14028141e-01],\n",
            "        [-2.65150983e-02, -2.22235043e-02, -1.41091961e-02,\n",
            "         -7.35639036e-02,  9.96764451e-02,  3.78086395e-03,\n",
            "         -1.78879667e-02, -3.65597894e-03],\n",
            "        [ 1.20908711e-02,  1.69811808e-02,  1.36826383e-02,\n",
            "         -1.50537258e-02, -3.45104523e-02,  2.85861399e-02,\n",
            "          2.61484664e-02, -4.63681929e-02],\n",
            "        [ 5.43543231e-03,  1.18161157e-01,  1.03002936e-01,\n",
            "          2.07016524e-03, -8.40966403e-02,  4.08087857e-02,\n",
            "          1.34686559e-01, -8.92439261e-02],\n",
            "        [-4.72726077e-02, -4.66627404e-02, -1.15190446e-03,\n",
            "         -5.09805791e-02,  6.86279824e-03,  9.24926437e-03,\n",
            "          3.92443035e-03,  2.21318491e-02],\n",
            "        [-1.57964136e-02, -1.89026876e-03, -5.93969859e-02,\n",
            "         -5.59519343e-02,  5.17714880e-02, -6.55476982e-03,\n",
            "         -2.80544683e-02,  3.12165637e-02],\n",
            "        [ 5.35556339e-02, -4.97794012e-04, -4.31167819e-02,\n",
            "          7.71498010e-02,  1.82978287e-02, -1.08949117e-01,\n",
            "          8.63194093e-02, -1.05826192e-01]]], dtype=float32)], [array([[0.5007428]], dtype=float32)], [array([[0.0601373]], dtype=float32)]]\n"
          ],
          "name": "stdout"
        }
      ]
    },
    {
      "cell_type": "code",
      "metadata": {
        "id": "NpfCVqpWDlFu",
        "colab_type": "code",
        "colab": {}
      },
      "source": [
        ""
      ],
      "execution_count": 0,
      "outputs": []
    }
  ]
}