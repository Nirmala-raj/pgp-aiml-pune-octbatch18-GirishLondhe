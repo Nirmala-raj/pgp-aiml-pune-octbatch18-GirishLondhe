{
  "nbformat": 4,
  "nbformat_minor": 0,
  "metadata": {
    "colab": {
      "name": "R7_InternalLab_Questions_FMNIST_Simple_CNN_CIFAR_DATA_Augment.ipynb",
      "version": "0.3.2",
      "provenance": [],
      "collapsed_sections": []
    },
    "kernelspec": {
      "name": "python3",
      "display_name": "Python 3"
    },
    "accelerator": "GPU"
  },
  "cells": [
    {
      "metadata": {
        "id": "MyfMmMnPJjvn",
        "colab_type": "text"
      },
      "cell_type": "markdown",
      "source": [
        "## Train a simple convnet on the Fashion MNIST dataset"
      ]
    },
    {
      "metadata": {
        "id": "zjcGOJhcJjvp",
        "colab_type": "text"
      },
      "cell_type": "markdown",
      "source": [
        "In this, we will see how to deal with image data and train a convnet for image classification task."
      ]
    },
    {
      "metadata": {
        "id": "jR0Pl2XjJjvq",
        "colab_type": "text"
      },
      "cell_type": "markdown",
      "source": [
        "### Load the  `fashion_mnist`  dataset\n",
        "\n",
        "** Use keras.datasets to load the dataset **"
      ]
    },
    {
      "metadata": {
        "id": "Qr75v_UYJjvs",
        "colab_type": "code",
        "outputId": "7aff3ddc-0b69-49d2-d0de-8d110833d9bf",
        "colab": {
          "base_uri": "https://localhost:8080/",
          "height": 170
        }
      },
      "cell_type": "code",
      "source": [
        "from keras.datasets import fashion_mnist\n",
        "(x_train, y_train), (x_test, y_test) = fashion_mnist.load_data()"
      ],
      "execution_count": 0,
      "outputs": [
        {
          "output_type": "stream",
          "text": [
            "Using TensorFlow backend.\n"
          ],
          "name": "stderr"
        },
        {
          "output_type": "stream",
          "text": [
            "Downloading data from http://fashion-mnist.s3-website.eu-central-1.amazonaws.com/train-labels-idx1-ubyte.gz\n",
            "32768/29515 [=================================] - 0s 3us/step\n",
            "Downloading data from http://fashion-mnist.s3-website.eu-central-1.amazonaws.com/train-images-idx3-ubyte.gz\n",
            "26427392/26421880 [==============================] - 2s 0us/step\n",
            "Downloading data from http://fashion-mnist.s3-website.eu-central-1.amazonaws.com/t10k-labels-idx1-ubyte.gz\n",
            "8192/5148 [===============================================] - 0s 0us/step\n",
            "Downloading data from http://fashion-mnist.s3-website.eu-central-1.amazonaws.com/t10k-images-idx3-ubyte.gz\n",
            "4423680/4422102 [==============================] - 1s 0us/step\n"
          ],
          "name": "stdout"
        }
      ]
    },
    {
      "metadata": {
        "id": "_qJb35_GOCMP",
        "colab_type": "code",
        "colab": {}
      },
      "cell_type": "code",
      "source": [
        "import numpy as np\n",
        "import pandas as pd\n",
        "import keras\n",
        "import matplotlib.pyplot as plt\n",
        "% matplotlib inline\n",
        "import vis\n",
        "\n",
        "from keras.models import Sequential\n",
        "from keras import backend as K"
      ],
      "execution_count": 0,
      "outputs": []
    },
    {
      "metadata": {
        "id": "hTI42-0qJjvw",
        "colab_type": "text"
      },
      "cell_type": "markdown",
      "source": [
        "### Find no.of samples are there in training and test datasets"
      ]
    },
    {
      "metadata": {
        "id": "g2sf67VoJjvx",
        "colab_type": "code",
        "outputId": "71d03aba-a4b6-43a1-9db0-5abdfc223c65",
        "colab": {
          "base_uri": "https://localhost:8080/",
          "height": 34
        }
      },
      "cell_type": "code",
      "source": [
        "x_train.shape"
      ],
      "execution_count": 0,
      "outputs": [
        {
          "output_type": "execute_result",
          "data": {
            "text/plain": [
              "(60000, 28, 28)"
            ]
          },
          "metadata": {
            "tags": []
          },
          "execution_count": 3
        }
      ]
    },
    {
      "metadata": {
        "id": "zewyDcBlJjv1",
        "colab_type": "code",
        "outputId": "e15e93c1-650e-4ead-e109-f763e98d5d1a",
        "colab": {
          "base_uri": "https://localhost:8080/",
          "height": 34
        }
      },
      "cell_type": "code",
      "source": [
        "x_test.shape"
      ],
      "execution_count": 0,
      "outputs": [
        {
          "output_type": "execute_result",
          "data": {
            "text/plain": [
              "(10000, 28, 28)"
            ]
          },
          "metadata": {
            "tags": []
          },
          "execution_count": 4
        }
      ]
    },
    {
      "metadata": {
        "id": "WytT2eRnJjv4",
        "colab_type": "text"
      },
      "cell_type": "markdown",
      "source": [
        "### Find dimensions of an image in the dataset"
      ]
    },
    {
      "metadata": {
        "id": "XycQGBSGJjv5",
        "colab_type": "code",
        "outputId": "7b9d0d7d-40b9-46d0-8608-3e3244c98484",
        "colab": {
          "base_uri": "https://localhost:8080/",
          "height": 34
        }
      },
      "cell_type": "code",
      "source": [
        "x_train[0].shape"
      ],
      "execution_count": 0,
      "outputs": [
        {
          "output_type": "execute_result",
          "data": {
            "text/plain": [
              "(28, 28)"
            ]
          },
          "metadata": {
            "tags": []
          },
          "execution_count": 5
        }
      ]
    },
    {
      "metadata": {
        "id": "5jtdZ7RqJjv8",
        "colab_type": "text"
      },
      "cell_type": "markdown",
      "source": [
        "### Convert train and test labels to one hot vectors\n",
        "\n",
        "** check `keras.utils.to_categorical()` **"
      ]
    },
    {
      "metadata": {
        "id": "sAD3q5I6Jjv9",
        "colab_type": "code",
        "colab": {}
      },
      "cell_type": "code",
      "source": [
        "y_train_class = keras.utils.to_categorical(y_train, 10)"
      ],
      "execution_count": 0,
      "outputs": []
    },
    {
      "metadata": {
        "id": "mgHSCXy3JjwA",
        "colab_type": "code",
        "colab": {}
      },
      "cell_type": "code",
      "source": [
        "y_test_class = keras.utils.to_categorical(y_test, 10)"
      ],
      "execution_count": 0,
      "outputs": []
    },
    {
      "metadata": {
        "id": "xO5BRBzBJjwD",
        "colab_type": "text"
      },
      "cell_type": "markdown",
      "source": [
        "### Normalize both the train and test image data from 0-255 to 0-1"
      ]
    },
    {
      "metadata": {
        "id": "3fUQpMHxJjwE",
        "colab_type": "code",
        "colab": {}
      },
      "cell_type": "code",
      "source": [
        "x_train =  x_train.astype(\"float32\") / 255"
      ],
      "execution_count": 0,
      "outputs": []
    },
    {
      "metadata": {
        "id": "Okwo_SB5JjwI",
        "colab_type": "code",
        "colab": {}
      },
      "cell_type": "code",
      "source": [
        "x_test = x_test.astype(\"float32\") / 255"
      ],
      "execution_count": 0,
      "outputs": []
    },
    {
      "metadata": {
        "id": "da5-DwgrJjwM",
        "colab_type": "text"
      },
      "cell_type": "markdown",
      "source": [
        "### Reshape the data from 28x28 to 28x28x1 to match input dimensions in Conv2D layer in keras"
      ]
    },
    {
      "metadata": {
        "id": "LPGVQ-JJJjwN",
        "colab_type": "code",
        "colab": {}
      },
      "cell_type": "code",
      "source": [
        "x_train_conv = x_train.reshape(x_train.shape[0], 28, 28, 1)\n",
        "x_test_conv = x_test.reshape(x_test.shape[0], 28, 28, 1)"
      ],
      "execution_count": 0,
      "outputs": []
    },
    {
      "metadata": {
        "id": "OFRRTJq8JjwQ",
        "colab_type": "text"
      },
      "cell_type": "markdown",
      "source": [
        "### Import the necessary layers from keras to build the model"
      ]
    },
    {
      "metadata": {
        "id": "dWTZYnKSJjwR",
        "colab_type": "code",
        "colab": {}
      },
      "cell_type": "code",
      "source": [
        "from keras.layers import Conv2D, MaxPooling2D, Activation, Flatten, Dense, Dropout\n",
        "from keras.callbacks import EarlyStopping"
      ],
      "execution_count": 0,
      "outputs": []
    },
    {
      "metadata": {
        "id": "C18AoS7eJjwU",
        "colab_type": "text"
      },
      "cell_type": "markdown",
      "source": [
        "### Build a model \n",
        "\n",
        "** with 2 Conv layers having `32 3*3 filters` in both convolutions with `relu activations` and `flatten` before passing the feature map into 2 fully connected layers (or Dense Layers) having 128 and 10 neurons with `relu` and `softmax` activations respectively. Now, using `categorical_crossentropy` loss with `adam` optimizer train the model with early stopping `patience=5` and no.of `epochs=10`. **"
      ]
    },
    {
      "metadata": {
        "id": "DORCLgSwJjwV",
        "colab_type": "code",
        "outputId": "af3f67d5-b0c4-446a-b8b8-12d5644ec9d6",
        "colab": {
          "base_uri": "https://localhost:8080/",
          "height": 374
        }
      },
      "cell_type": "code",
      "source": [
        "model_conv = Sequential()\n",
        "model_conv.add(Conv2D(32, (3, 3), activation =\"relu\", input_shape=(28, 28, 1)))\n",
        "model_conv.add(Conv2D(32, (3, 3), activation =\"relu\"))\n",
        "model_conv.add(Flatten())\n",
        "model_conv.add(Dense(128, activation='relu'))\n",
        "model_conv.add(Dense(10, activation='softmax'))\n",
        "\n",
        "model_conv.compile(loss='categorical_crossentropy', optimizer=\"adam\", metrics=['accuracy'])\n",
        "\n",
        "es = [EarlyStopping(monitor='val_loss', mode='min', verbose=1, patience=5)]\n",
        "\n",
        "output_conv = model_conv.fit(x_train_conv, y_train_class, batch_size=512, epochs=10, verbose=2,\n",
        "                    validation_data=(x_test_conv, y_test_class),callbacks=es)\n"
      ],
      "execution_count": 0,
      "outputs": [
        {
          "output_type": "stream",
          "text": [
            "Train on 60000 samples, validate on 10000 samples\n",
            "Epoch 1/10\n",
            " - 9s - loss: 0.5513 - acc: 0.8032 - val_loss: 0.4039 - val_acc: 0.8564\n",
            "Epoch 2/10\n",
            " - 4s - loss: 0.3227 - acc: 0.8858 - val_loss: 0.3183 - val_acc: 0.8873\n",
            "Epoch 3/10\n",
            " - 4s - loss: 0.2754 - acc: 0.9003 - val_loss: 0.3049 - val_acc: 0.8881\n",
            "Epoch 4/10\n",
            " - 4s - loss: 0.2389 - acc: 0.9132 - val_loss: 0.2776 - val_acc: 0.8999\n",
            "Epoch 5/10\n",
            " - 4s - loss: 0.2121 - acc: 0.9213 - val_loss: 0.2636 - val_acc: 0.9055\n",
            "Epoch 6/10\n",
            " - 4s - loss: 0.1889 - acc: 0.9309 - val_loss: 0.2798 - val_acc: 0.8993\n",
            "Epoch 7/10\n",
            " - 4s - loss: 0.1711 - acc: 0.9369 - val_loss: 0.2638 - val_acc: 0.9063\n",
            "Epoch 8/10\n",
            " - 4s - loss: 0.1483 - acc: 0.9457 - val_loss: 0.2620 - val_acc: 0.9083\n",
            "Epoch 9/10\n",
            " - 4s - loss: 0.1307 - acc: 0.9530 - val_loss: 0.2532 - val_acc: 0.9159\n",
            "Epoch 10/10\n",
            " - 4s - loss: 0.1127 - acc: 0.9600 - val_loss: 0.2556 - val_acc: 0.9174\n"
          ],
          "name": "stdout"
        }
      ]
    },
    {
      "metadata": {
        "id": "ju69vKdIJjwX",
        "colab_type": "text"
      },
      "cell_type": "markdown",
      "source": [
        "### Now, to the above model add `max` pooling layer of `filter size 2x2` and `dropout` layer with `p=0.25` after the 2 conv layers and run the model"
      ]
    },
    {
      "metadata": {
        "id": "L2hAP94vJjwY",
        "colab_type": "code",
        "outputId": "10b4d39c-0e59-46b8-bd97-96574df3233e",
        "colab": {
          "base_uri": "https://localhost:8080/",
          "height": 445
        }
      },
      "cell_type": "code",
      "source": [
        "model_conv_pool = Sequential()\n",
        "model_conv_pool.add(Conv2D(32, (3, 3), activation =\"relu\", input_shape=(28, 28, 1)))\n",
        "model_conv_pool.add(Conv2D(32, (3, 3), activation =\"relu\"))\n",
        "model_conv_pool.add(MaxPooling2D(pool_size=(2, 2)))\n",
        "model_conv_pool.add(Dropout(0.25))\n",
        "model_conv_pool.add(Flatten())\n",
        "model_conv_pool.add(Dense(128, activation='relu'))\n",
        "model_conv_pool.add(Dense(10, activation='softmax'))\n",
        "\n",
        "model_conv_pool.compile(loss='categorical_crossentropy', optimizer=\"adam\", metrics=['accuracy'])\n",
        "\n",
        "es = [EarlyStopping(monitor='val_loss', mode='min', verbose=1, patience=5)]\n",
        "\n",
        "output_conv = model_conv_pool.fit(x_train_conv, y_train_class, batch_size=512, epochs=10, verbose=2,\n",
        "                    validation_data=(x_test_conv, y_test_class),callbacks=es)\n"
      ],
      "execution_count": 0,
      "outputs": [
        {
          "output_type": "stream",
          "text": [
            "WARNING:tensorflow:From /usr/local/lib/python3.6/dist-packages/keras/backend/tensorflow_backend.py:3445: calling dropout (from tensorflow.python.ops.nn_ops) with keep_prob is deprecated and will be removed in a future version.\n",
            "Instructions for updating:\n",
            "Please use `rate` instead of `keep_prob`. Rate should be set to `rate = 1 - keep_prob`.\n",
            "Train on 60000 samples, validate on 10000 samples\n",
            "Epoch 1/10\n",
            " - 4s - loss: 0.6017 - acc: 0.7921 - val_loss: 0.4088 - val_acc: 0.8533\n",
            "Epoch 2/10\n",
            " - 4s - loss: 0.3542 - acc: 0.8748 - val_loss: 0.3763 - val_acc: 0.8615\n",
            "Epoch 3/10\n",
            " - 4s - loss: 0.3094 - acc: 0.8891 - val_loss: 0.3036 - val_acc: 0.8906\n",
            "Epoch 4/10\n",
            " - 4s - loss: 0.2793 - acc: 0.8985 - val_loss: 0.2869 - val_acc: 0.8966\n",
            "Epoch 5/10\n",
            " - 4s - loss: 0.2549 - acc: 0.9067 - val_loss: 0.2940 - val_acc: 0.8877\n",
            "Epoch 6/10\n",
            " - 4s - loss: 0.2377 - acc: 0.9120 - val_loss: 0.2670 - val_acc: 0.9029\n",
            "Epoch 7/10\n",
            " - 4s - loss: 0.2234 - acc: 0.9193 - val_loss: 0.2654 - val_acc: 0.9025\n",
            "Epoch 8/10\n",
            " - 4s - loss: 0.2070 - acc: 0.9234 - val_loss: 0.2391 - val_acc: 0.9129\n",
            "Epoch 9/10\n",
            " - 4s - loss: 0.1937 - acc: 0.9286 - val_loss: 0.2393 - val_acc: 0.9131\n",
            "Epoch 10/10\n",
            " - 4s - loss: 0.1835 - acc: 0.9330 - val_loss: 0.2347 - val_acc: 0.9182\n"
          ],
          "name": "stdout"
        }
      ]
    },
    {
      "metadata": {
        "id": "lGTA3bfEJjwa",
        "colab_type": "text"
      },
      "cell_type": "markdown",
      "source": [
        "### Now, to the above model, lets add Data Augmentation "
      ]
    },
    {
      "metadata": {
        "id": "F6gX8n5SJjwb",
        "colab_type": "text"
      },
      "cell_type": "markdown",
      "source": [
        "### Import the ImageDataGenrator from keras and fit the training images"
      ]
    },
    {
      "metadata": {
        "id": "Cbz4uHBuJjwc",
        "colab_type": "code",
        "colab": {}
      },
      "cell_type": "code",
      "source": [
        "from keras.preprocessing.image import ImageDataGenerator\n",
        "\n",
        "# this will do preprocessing and realtime data augmentation\n",
        "datagen = ImageDataGenerator(\n",
        "    featurewise_center=False,  # set input mean to 0 over the dataset\n",
        "    samplewise_center=False,  # set each sample mean to 0\n",
        "    featurewise_std_normalization=False,  # divide inputs by std of the dataset\n",
        "    samplewise_std_normalization=False,  # divide each input by its std\n",
        "    rotation_range=25,  # randomly rotate images in the range (degrees, 0 to 180)\n",
        "    width_shift_range=0.1,  # randomly shift images horizontally (fraction of total width)\n",
        "    height_shift_range=0.1,  # randomly shift images vertically (fraction of total height)\n",
        "    horizontal_flip=False,  # randomly flip images\n",
        "    vertical_flip=False)  # randomly flip images"
      ],
      "execution_count": 0,
      "outputs": []
    },
    {
      "metadata": {
        "id": "5C_MdQc4VmRE",
        "colab_type": "code",
        "colab": {}
      },
      "cell_type": "code",
      "source": [
        "# Set up the generator\n",
        "datagen.fit(x_train_conv)"
      ],
      "execution_count": 0,
      "outputs": []
    },
    {
      "metadata": {
        "id": "pl-8dOo7Jjwf",
        "colab_type": "text"
      },
      "cell_type": "markdown",
      "source": [
        "#### Showing 5 versions of the first image in training dataset using image datagenerator.flow()"
      ]
    },
    {
      "metadata": {
        "scrolled": true,
        "id": "DpI1_McYJjwg",
        "colab_type": "code",
        "outputId": "c7d2d201-859d-4aeb-a22f-70db7aa97b34",
        "colab": {
          "base_uri": "https://localhost:8080/",
          "height": 109
        }
      },
      "cell_type": "code",
      "source": [
        "from matplotlib import pyplot as plt\n",
        "gen = datagen.flow(x_train_conv[0:1], batch_size=1)\n",
        "for i in range(1, 6):\n",
        "    plt.subplot(1,5,i)\n",
        "    plt.axis(\"off\")\n",
        "    plt.imshow(gen.next().squeeze(), cmap='gray')\n",
        "    plt.plot()\n",
        "plt.show()"
      ],
      "execution_count": 0,
      "outputs": [
        {
          "output_type": "display_data",
          "data": {
            "image/png": "[encoded data removed]",
            "text/plain": [
              "<Figure size 432x288 with 5 Axes>"
            ]
          },
          "metadata": {
            "tags": []
          }
        }
      ]
    },
    {
      "metadata": {
        "id": "dmPl5yE8Jjwm",
        "colab_type": "text"
      },
      "cell_type": "markdown",
      "source": [
        "### Run the above model using fit_generator()"
      ]
    },
    {
      "metadata": {
        "id": "44ZnDdJYJjwn",
        "colab_type": "code",
        "outputId": "049bf598-ce85-4260-d9a3-a40a852a555d",
        "colab": {
          "base_uri": "https://localhost:8080/",
          "height": 357
        }
      },
      "cell_type": "code",
      "source": [
        "# fits the model on batches with real-time data augmentation:\n",
        "history = model_conv_pool.fit_generator(datagen.flow(x_train_conv, y_train_class, batch_size=32), \n",
        "                             validation_data=(x_test_conv, y_test_class), use_multiprocessing=True,\n",
        "                     steps_per_epoch=len(x_train_conv) / 32, epochs=10)"
      ],
      "execution_count": 0,
      "outputs": [
        {
          "output_type": "stream",
          "text": [
            "Epoch 1/10\n",
            "1875/1875 [==============================] - 28s 15ms/step - loss: 0.5346 - acc: 0.7980 - val_loss: 0.3612 - val_acc: 0.8697\n",
            "Epoch 2/10\n",
            "1875/1875 [==============================] - 29s 15ms/step - loss: 0.4238 - acc: 0.8416 - val_loss: 0.3343 - val_acc: 0.8762\n",
            "Epoch 3/10\n",
            "1875/1875 [==============================] - 29s 16ms/step - loss: 0.3895 - acc: 0.8547 - val_loss: 0.3516 - val_acc: 0.8694\n",
            "Epoch 4/10\n",
            "1875/1875 [==============================] - 29s 15ms/step - loss: 0.3678 - acc: 0.8625 - val_loss: 0.2966 - val_acc: 0.8927\n",
            "Epoch 5/10\n",
            "1875/1875 [==============================] - 29s 15ms/step - loss: 0.3490 - acc: 0.8706 - val_loss: 0.2882 - val_acc: 0.8970\n",
            "Epoch 6/10\n",
            "1875/1875 [==============================] - 29s 16ms/step - loss: 0.3389 - acc: 0.8731 - val_loss: 0.2958 - val_acc: 0.8922\n",
            "Epoch 7/10\n",
            "1875/1875 [==============================] - 29s 15ms/step - loss: 0.3287 - acc: 0.8770 - val_loss: 0.2874 - val_acc: 0.8959\n",
            "Epoch 8/10\n",
            "1875/1875 [==============================] - 29s 15ms/step - loss: 0.3216 - acc: 0.8810 - val_loss: 0.2836 - val_acc: 0.8971\n",
            "Epoch 9/10\n",
            "1875/1875 [==============================] - 29s 15ms/step - loss: 0.3143 - acc: 0.8834 - val_loss: 0.3023 - val_acc: 0.8923\n",
            "Epoch 10/10\n",
            "1875/1875 [==============================] - 29s 16ms/step - loss: 0.3090 - acc: 0.8859 - val_loss: 0.2823 - val_acc: 0.8999\n"
          ],
          "name": "stdout"
        }
      ]
    },
    {
      "metadata": {
        "id": "UIFbGbrlm8tE",
        "colab_type": "text"
      },
      "cell_type": "markdown",
      "source": [
        "**Report the final train and validation accuracy**"
      ]
    },
    {
      "metadata": {
        "id": "c1SrtBEPJjwq",
        "colab_type": "code",
        "outputId": "70fa8840-b7b7-475a-e60a-22638e109f2e",
        "colab": {
          "base_uri": "https://localhost:8080/",
          "height": 34
        }
      },
      "cell_type": "code",
      "source": [
        "score_val = model_conv_pool.evaluate(x_test_conv, y_test_class, verbose=1)"
      ],
      "execution_count": 0,
      "outputs": [
        {
          "output_type": "stream",
          "text": [
            "10000/10000 [==============================] - 1s 89us/step\n"
          ],
          "name": "stdout"
        }
      ]
    },
    {
      "metadata": {
        "id": "ZBwVWNQC2qZD",
        "colab_type": "code",
        "outputId": "77c7d209-4704-4f1c-8afa-6d06302499d2",
        "colab": {
          "base_uri": "https://localhost:8080/",
          "height": 51
        }
      },
      "cell_type": "code",
      "source": [
        "print('Test loss:', score_val[0])\n",
        "print('Test accuracy:', score_val[1])"
      ],
      "execution_count": 0,
      "outputs": [
        {
          "output_type": "stream",
          "text": [
            "Test loss: 0.2822566977977753\n",
            "Test accuracy: 0.8999\n"
          ],
          "name": "stdout"
        }
      ]
    },
    {
      "metadata": {
        "id": "AqViZ2MOkLGc",
        "colab_type": "code",
        "outputId": "907abd3d-38e1-49db-a9fe-b2cfa300cb93",
        "colab": {
          "base_uri": "https://localhost:8080/",
          "height": 34
        }
      },
      "cell_type": "code",
      "source": [
        "score_train = model_conv_pool.evaluate(x_train_conv, y_train_class, verbose=1)"
      ],
      "execution_count": 0,
      "outputs": [
        {
          "output_type": "stream",
          "text": [
            "60000/60000 [==============================] - 5s 86us/step\n"
          ],
          "name": "stdout"
        }
      ]
    },
    {
      "metadata": {
        "id": "eSD9KoHukW46",
        "colab_type": "code",
        "outputId": "cc05c539-b61c-4c16-ac3b-f51564fc68c1",
        "colab": {
          "base_uri": "https://localhost:8080/",
          "height": 51
        }
      },
      "cell_type": "code",
      "source": [
        "print('Train loss:', score_train[0])\n",
        "print('Train accuracy:', score_train[1])"
      ],
      "execution_count": 0,
      "outputs": [
        {
          "output_type": "stream",
          "text": [
            "Train loss: 0.24976347782214484\n",
            "Train accuracy: 0.9071833333333333\n"
          ],
          "name": "stdout"
        }
      ]
    },
    {
      "metadata": {
        "id": "8KXqmUDW2rM1",
        "colab_type": "text"
      },
      "cell_type": "markdown",
      "source": [
        "## **DATA AUGMENTATION ON CIFAR10 DATASET**"
      ]
    },
    {
      "metadata": {
        "id": "8mja6OgQ3L18",
        "colab_type": "text"
      },
      "cell_type": "markdown",
      "source": [
        "One of the best ways to improve the performance of a Deep Learning model is to add more data to the training set. Aside from gathering more instances from the wild that are representative of the distinction task, we want to develop a set of methods that enhance the data we already have. There are many ways to augment existing datasets and produce more robust models. In the image domain, these are done to utilize the full power of the convolutional neural network, which is able to capture translational invariance. This translational invariance is what makes image recognition such a difficult task in the first place. You want the dataset to be representative of the many different positions, angles, lightings, and miscellaneous distortions that are of interest to the vision task."
      ]
    },
    {
      "metadata": {
        "id": "6HzVTPUM3WZJ",
        "colab_type": "text"
      },
      "cell_type": "markdown",
      "source": [
        "### **Import neessary libraries for data augmentation**"
      ]
    },
    {
      "metadata": {
        "id": "PPM558TX4KMb",
        "colab_type": "code",
        "colab": {}
      },
      "cell_type": "code",
      "source": [
        ""
      ],
      "execution_count": 0,
      "outputs": []
    },
    {
      "metadata": {
        "id": "W6hicLwP4SqY",
        "colab_type": "text"
      },
      "cell_type": "markdown",
      "source": [
        "### **Load CIFAR10 dataset**"
      ]
    },
    {
      "metadata": {
        "id": "NQ1WzrXd4WNk",
        "colab_type": "code",
        "outputId": "15d576ee-1654-42df-e5f1-2723b44c364e",
        "colab": {
          "base_uri": "https://localhost:8080/",
          "height": 51
        }
      },
      "cell_type": "code",
      "source": [
        "from keras.datasets import cifar10\n",
        "(x_train, y_train), (x_test, y_test) = cifar10.load_data()"
      ],
      "execution_count": 0,
      "outputs": [
        {
          "output_type": "stream",
          "text": [
            "Downloading data from https://www.cs.toronto.edu/~kriz/cifar-10-python.tar.gz\n",
            "170500096/170498071 [==============================] - 17s 0us/step\n"
          ],
          "name": "stdout"
        }
      ]
    },
    {
      "metadata": {
        "id": "R9Pht1ggHuiT",
        "colab_type": "code",
        "outputId": "3d4d1f09-9ec3-48ed-e535-6ec6dbc15088",
        "colab": {
          "base_uri": "https://localhost:8080/",
          "height": 34
        }
      },
      "cell_type": "code",
      "source": [
        "x_train.shape"
      ],
      "execution_count": 0,
      "outputs": [
        {
          "output_type": "execute_result",
          "data": {
            "text/plain": [
              "(50000, 32, 32, 3)"
            ]
          },
          "metadata": {
            "tags": []
          },
          "execution_count": 33
        }
      ]
    },
    {
      "metadata": {
        "id": "3n28ccU6Hp6s",
        "colab_type": "code",
        "outputId": "f34004eb-bb79-4c05-b4ac-b3f2da971605",
        "colab": {
          "base_uri": "https://localhost:8080/",
          "height": 34
        }
      },
      "cell_type": "code",
      "source": [
        "x_test.shape"
      ],
      "execution_count": 0,
      "outputs": [
        {
          "output_type": "execute_result",
          "data": {
            "text/plain": [
              "(10000, 32, 32, 3)"
            ]
          },
          "metadata": {
            "tags": []
          },
          "execution_count": 35
        }
      ]
    },
    {
      "metadata": {
        "id": "JN3vYYhK4W0u",
        "colab_type": "text"
      },
      "cell_type": "markdown",
      "source": [
        "### **Create a data_gen funtion to genererator with image rotation,shifting image horizontally and vertically with random flip horizontally.**"
      ]
    },
    {
      "metadata": {
        "id": "JJbekTKi4cmM",
        "colab_type": "code",
        "colab": {}
      },
      "cell_type": "code",
      "source": [
        "from keras.preprocessing.image import ImageDataGenerator\n",
        "\n",
        "# this will do preprocessing and realtime data augmentation\n",
        "datagen = ImageDataGenerator(\n",
        "    featurewise_center=False,  # set input mean to 0 over the dataset\n",
        "    samplewise_center=False,  # set each sample mean to 0\n",
        "    featurewise_std_normalization=False,  # divide inputs by std of the dataset\n",
        "    samplewise_std_normalization=False,  # divide each input by its std\n",
        "    rotation_range=60,  # randomly rotate images in the range (degrees, 0 to 180)\n",
        "    width_shift_range=0.1,  # randomly shift images horizontally (fraction of total width)\n",
        "    height_shift_range=0.1,  # randomly shift images vertically (fraction of total height)\n",
        "    horizontal_flip=True,  # randomly flip images\n",
        "    vertical_flip=True)  # randomly flip images"
      ],
      "execution_count": 0,
      "outputs": []
    },
    {
      "metadata": {
        "id": "e-SLtUhC4dK2",
        "colab_type": "text"
      },
      "cell_type": "markdown",
      "source": [
        "### **Prepare/fit the generator.**"
      ]
    },
    {
      "metadata": {
        "id": "CSw8Bv2_4hb0",
        "colab_type": "code",
        "colab": {}
      },
      "cell_type": "code",
      "source": [
        "# Set up the generator\n",
        "datagen.fit(x_train)"
      ],
      "execution_count": 0,
      "outputs": []
    },
    {
      "metadata": {
        "id": "gYyF-P8O4jQ8",
        "colab_type": "text"
      },
      "cell_type": "markdown",
      "source": [
        "### **Generate 5 images for 1 of the image of CIFAR10 train dataset.**"
      ]
    },
    {
      "metadata": {
        "id": "mXug4z234mwQ",
        "colab_type": "code",
        "outputId": "f887e1e8-1a34-4be6-b217-a2d6baaf03ef",
        "colab": {
          "base_uri": "https://localhost:8080/",
          "height": 99
        }
      },
      "cell_type": "code",
      "source": [
        "from matplotlib import pyplot as plt\n",
        "gen = datagen.flow(x_train[1:2], batch_size=1)\n",
        "for i in range(1, 6):\n",
        "    plt.subplot(1,6,i)\n",
        "    plt.axis(\"off\")\n",
        "    plt.imshow(gen.next().squeeze().astype(np.uint8))\n",
        "    plt.plot()\n",
        "plt.show()"
      ],
      "execution_count": 0,
      "outputs": [
        {
          "output_type": "display_data",
          "data": {
            "image/png": "[encoded data removed]",
            "text/plain": [
              "<Figure size 432x288 with 5 Axes>"
            ]
          },
          "metadata": {
            "tags": []
          }
        }
      ]
    },
    {
      "metadata": {
        "id": "NsuqT43ye9fk",
        "colab_type": "code",
        "colab": {}
      },
      "cell_type": "code",
      "source": [
        ""
      ],
      "execution_count": 0,
      "outputs": []
    }
  ]
}