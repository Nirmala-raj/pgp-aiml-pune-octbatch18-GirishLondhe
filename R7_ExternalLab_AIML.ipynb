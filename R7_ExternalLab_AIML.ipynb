{
  "nbformat": 4,
  "nbformat_minor": 0,
  "metadata": {
    "colab": {
      "name": "R7_ExternalLab_AIML.ipynb",
      "version": "0.3.2",
      "provenance": [],
      "collapsed_sections": []
    },
    "kernelspec": {
      "name": "python3",
      "display_name": "Python 3"
    },
    "accelerator": "GPU"
  },
  "cells": [
    {
      "metadata": {
        "id": "4WH1Pr4KQlCh",
        "colab_type": "text"
      },
      "cell_type": "markdown",
      "source": [
        "### Build a DNN using Keras with `RELU` and `ADAM`"
      ]
    },
    {
      "metadata": {
        "slideshow": {
          "slide_type": "slide"
        },
        "id": "TbvI8LqlQlCl",
        "colab_type": "text"
      },
      "cell_type": "markdown",
      "source": [
        "#### Load tensorflow"
      ]
    },
    {
      "metadata": {
        "id": "SPW-a-qYQlCp",
        "colab_type": "code",
        "colab": {
          "base_uri": "https://localhost:8080/",
          "height": 34
        },
        "outputId": "92173b7a-d53e-4b25-92aa-7baa565ae680"
      },
      "cell_type": "code",
      "source": [
        "import tensorflow as tf\n",
        "\n",
        "import numpy as np\n",
        "import pandas as pd\n",
        "import matplotlib.pyplot as plt\n",
        "% matplotlib inline\n",
        "import vis\n",
        "import keras\n"
      ],
      "execution_count": 1,
      "outputs": [
        {
          "output_type": "stream",
          "text": [
            "Using TensorFlow backend.\n"
          ],
          "name": "stderr"
        }
      ]
    },
    {
      "metadata": {
        "slideshow": {
          "slide_type": "slide"
        },
        "id": "74cQBsi5QlCw",
        "colab_type": "text"
      },
      "cell_type": "markdown",
      "source": [
        "#### Collect Fashion mnist data from tf.keras.datasets "
      ]
    },
    {
      "metadata": {
        "id": "wVWy0oDTr2Kj",
        "colab_type": "code",
        "colab": {
          "base_uri": "https://localhost:8080/",
          "height": 153
        },
        "outputId": "1d20d7f2-6283-4c5c-efe0-7e9eb9be8050"
      },
      "cell_type": "code",
      "source": [
        "from keras.datasets import fashion_mnist\n",
        "(x_train, y_train), (x_test, y_test) = fashion_mnist.load_data()"
      ],
      "execution_count": 2,
      "outputs": [
        {
          "output_type": "stream",
          "text": [
            "Downloading data from http://fashion-mnist.s3-website.eu-central-1.amazonaws.com/train-labels-idx1-ubyte.gz\n",
            "32768/29515 [=================================] - 0s 3us/step\n",
            "Downloading data from http://fashion-mnist.s3-website.eu-central-1.amazonaws.com/train-images-idx3-ubyte.gz\n",
            "26427392/26421880 [==============================] - 2s 0us/step\n",
            "Downloading data from http://fashion-mnist.s3-website.eu-central-1.amazonaws.com/t10k-labels-idx1-ubyte.gz\n",
            "8192/5148 [===============================================] - 0s 0us/step\n",
            "Downloading data from http://fashion-mnist.s3-website.eu-central-1.amazonaws.com/t10k-images-idx3-ubyte.gz\n",
            "4423680/4422102 [==============================] - 1s 0us/step\n"
          ],
          "name": "stdout"
        }
      ]
    },
    {
      "metadata": {
        "slideshow": {
          "slide_type": "slide"
        },
        "id": "no7aWYZyQlC1",
        "colab_type": "text"
      },
      "cell_type": "markdown",
      "source": [
        "#### Change train and test labels into one-hot vectors"
      ]
    },
    {
      "metadata": {
        "id": "UX6otc4wQlC2",
        "colab_type": "code",
        "colab": {}
      },
      "cell_type": "code",
      "source": [
        "y_train_class = keras.utils.to_categorical(y_train, 10)\n",
        "y_test_class = keras.utils.to_categorical(y_test, 10)"
      ],
      "execution_count": 0,
      "outputs": []
    },
    {
      "metadata": {
        "slideshow": {
          "slide_type": "slide"
        },
        "id": "QjNrRTdoQlC5",
        "colab_type": "text"
      },
      "cell_type": "markdown",
      "source": [
        "#### Build the Graph"
      ]
    },
    {
      "metadata": {
        "id": "CDJ9DHVNQlC7",
        "colab_type": "text"
      },
      "cell_type": "markdown",
      "source": [
        "#### Initialize model, reshape & normalize data"
      ]
    },
    {
      "metadata": {
        "id": "pCDQs_g1QlC8",
        "colab_type": "code",
        "outputId": "56b91d27-9507-4a49-f224-2ecc479e8506",
        "colab": {
          "base_uri": "https://localhost:8080/",
          "height": 88
        }
      },
      "cell_type": "code",
      "source": [
        "#Initialize Sequential model\n",
        "model = tf.keras.models.Sequential()\n",
        "\n",
        "#Reshape data from 2D to 1D -> 28x28 to 784\n",
        "model.add(tf.keras.layers.Reshape((784,),input_shape=(28,28,)))\n",
        "\n",
        "#Normalize the data\n",
        "model.add(tf.keras.layers.BatchNormalization())"
      ],
      "execution_count": 4,
      "outputs": [
        {
          "output_type": "stream",
          "text": [
            "WARNING:tensorflow:From /usr/local/lib/python3.6/dist-packages/tensorflow/python/ops/resource_variable_ops.py:435: colocate_with (from tensorflow.python.framework.ops) is deprecated and will be removed in a future version.\n",
            "Instructions for updating:\n",
            "Colocations handled automatically by placer.\n"
          ],
          "name": "stdout"
        }
      ]
    },
    {
      "metadata": {
        "slideshow": {
          "slide_type": "slide"
        },
        "id": "kBGwTTilQlDD",
        "colab_type": "text"
      },
      "cell_type": "markdown",
      "source": [
        "#### Add two fully connected layers with 200 and 100 neurons respectively with `relu` activations. Add a dropout layer with `p=0.25`"
      ]
    },
    {
      "metadata": {
        "id": "IXbfpfOzQlDF",
        "colab_type": "code",
        "outputId": "26d22b95-e674-4b8f-91c2-cadca5f729cb",
        "colab": {
          "base_uri": "https://localhost:8080/",
          "height": 88
        }
      },
      "cell_type": "code",
      "source": [
        "#Add 1st hidden layer\n",
        "model.add(tf.keras.layers.Dense(200, activation='relu'))\n",
        "\n",
        "#Add 2nd hidden layer\n",
        "model.add(tf.keras.layers.Dense(100, activation='relu'))\n",
        "\n",
        "#Dropout layer\n",
        "model.add(tf.keras.layers.Dropout(0.25))"
      ],
      "execution_count": 5,
      "outputs": [
        {
          "output_type": "stream",
          "text": [
            "WARNING:tensorflow:From /usr/local/lib/python3.6/dist-packages/tensorflow/python/keras/layers/core.py:143: calling dropout (from tensorflow.python.ops.nn_ops) with keep_prob is deprecated and will be removed in a future version.\n",
            "Instructions for updating:\n",
            "Please use `rate` instead of `keep_prob`. Rate should be set to `rate = 1 - keep_prob`.\n"
          ],
          "name": "stdout"
        }
      ]
    },
    {
      "metadata": {
        "id": "5I8f5otcQlDJ",
        "colab_type": "text"
      },
      "cell_type": "markdown",
      "source": [
        "### Add the output layer with a fully connected layer with 10 neurons with `softmax` activation. Use `categorical_crossentropy` loss and `adam` optimizer and train the network. And, report the final validation."
      ]
    },
    {
      "metadata": {
        "id": "6VLBkG4kMCnS",
        "colab_type": "code",
        "colab": {}
      },
      "cell_type": "code",
      "source": [
        "#Output layer\n",
        "model.add(tf.keras.layers.Dense(10, activation='softmax', name='Output'))\n",
        "model.compile(optimizer='adam', loss='categorical_crossentropy', metrics=['accuracy'])"
      ],
      "execution_count": 0,
      "outputs": []
    },
    {
      "metadata": {
        "id": "7nJk23TsMDws",
        "colab_type": "code",
        "colab": {
          "base_uri": "https://localhost:8080/",
          "height": 1142
        },
        "outputId": "eef65ba8-ae23-489a-8af9-a60f3be7292b"
      },
      "cell_type": "code",
      "source": [
        "#Train the model\n",
        "model.fit(x_train,y_train_class,          \n",
        "          validation_data=(x_test,y_test_class),\n",
        "          epochs=30,\n",
        "          batch_size=32)"
      ],
      "execution_count": 7,
      "outputs": [
        {
          "output_type": "stream",
          "text": [
            "Train on 60000 samples, validate on 10000 samples\n",
            "WARNING:tensorflow:From /usr/local/lib/python3.6/dist-packages/tensorflow/python/ops/math_ops.py:3066: to_int32 (from tensorflow.python.ops.math_ops) is deprecated and will be removed in a future version.\n",
            "Instructions for updating:\n",
            "Use tf.cast instead.\n",
            "Epoch 1/30\n",
            "60000/60000 [==============================] - 9s 149us/sample - loss: 0.5129 - acc: 0.8192 - val_loss: 0.4153 - val_acc: 0.8527\n",
            "Epoch 2/30\n",
            "60000/60000 [==============================] - 8s 131us/sample - loss: 0.3933 - acc: 0.8566 - val_loss: 0.3686 - val_acc: 0.8626\n",
            "Epoch 3/30\n",
            "60000/60000 [==============================] - 8s 131us/sample - loss: 0.3589 - acc: 0.8686 - val_loss: 0.3637 - val_acc: 0.8671\n",
            "Epoch 4/30\n",
            "60000/60000 [==============================] - 8s 131us/sample - loss: 0.3357 - acc: 0.8761 - val_loss: 0.3682 - val_acc: 0.8725\n",
            "Epoch 5/30\n",
            "60000/60000 [==============================] - 8s 132us/sample - loss: 0.3153 - acc: 0.8831 - val_loss: 0.3506 - val_acc: 0.8736\n",
            "Epoch 6/30\n",
            "60000/60000 [==============================] - 8s 135us/sample - loss: 0.2989 - acc: 0.8910 - val_loss: 0.3565 - val_acc: 0.8747\n",
            "Epoch 7/30\n",
            "60000/60000 [==============================] - 9s 147us/sample - loss: 0.2848 - acc: 0.8930 - val_loss: 0.3438 - val_acc: 0.8823\n",
            "Epoch 8/30\n",
            "60000/60000 [==============================] - 8s 128us/sample - loss: 0.2750 - acc: 0.8963 - val_loss: 0.3392 - val_acc: 0.8860\n",
            "Epoch 9/30\n",
            "60000/60000 [==============================] - 8s 128us/sample - loss: 0.2646 - acc: 0.9010 - val_loss: 0.3399 - val_acc: 0.8869\n",
            "Epoch 10/30\n",
            "60000/60000 [==============================] - 8s 141us/sample - loss: 0.2533 - acc: 0.9044 - val_loss: 0.3535 - val_acc: 0.8868\n",
            "Epoch 11/30\n",
            "60000/60000 [==============================] - 8s 131us/sample - loss: 0.2458 - acc: 0.9072 - val_loss: 0.3474 - val_acc: 0.8916\n",
            "Epoch 12/30\n",
            "60000/60000 [==============================] - 8s 129us/sample - loss: 0.2382 - acc: 0.9112 - val_loss: 0.3478 - val_acc: 0.8826\n",
            "Epoch 13/30\n",
            "60000/60000 [==============================] - 8s 130us/sample - loss: 0.2298 - acc: 0.9109 - val_loss: 0.3562 - val_acc: 0.8864\n",
            "Epoch 14/30\n",
            "60000/60000 [==============================] - 8s 130us/sample - loss: 0.2239 - acc: 0.9155 - val_loss: 0.3329 - val_acc: 0.8919\n",
            "Epoch 15/30\n",
            "60000/60000 [==============================] - 8s 131us/sample - loss: 0.2184 - acc: 0.9183 - val_loss: 0.3453 - val_acc: 0.8890\n",
            "Epoch 16/30\n",
            "60000/60000 [==============================] - 8s 132us/sample - loss: 0.2098 - acc: 0.9207 - val_loss: 0.3515 - val_acc: 0.8928\n",
            "Epoch 17/30\n",
            "60000/60000 [==============================] - 9s 148us/sample - loss: 0.2036 - acc: 0.9229 - val_loss: 0.3649 - val_acc: 0.8910\n",
            "Epoch 18/30\n",
            "60000/60000 [==============================] - 8s 131us/sample - loss: 0.2015 - acc: 0.9234 - val_loss: 0.3742 - val_acc: 0.8909\n",
            "Epoch 19/30\n",
            "60000/60000 [==============================] - 8s 130us/sample - loss: 0.1956 - acc: 0.9265 - val_loss: 0.3746 - val_acc: 0.8898\n",
            "Epoch 20/30\n",
            "60000/60000 [==============================] - 8s 130us/sample - loss: 0.1936 - acc: 0.9266 - val_loss: 0.3540 - val_acc: 0.8912\n",
            "Epoch 21/30\n",
            "60000/60000 [==============================] - 8s 128us/sample - loss: 0.1908 - acc: 0.9276 - val_loss: 0.3537 - val_acc: 0.8891\n",
            "Epoch 22/30\n",
            "60000/60000 [==============================] - 8s 130us/sample - loss: 0.1837 - acc: 0.9318 - val_loss: 0.3702 - val_acc: 0.8903\n",
            "Epoch 23/30\n",
            "60000/60000 [==============================] - 8s 130us/sample - loss: 0.1787 - acc: 0.9324 - val_loss: 0.3881 - val_acc: 0.8899\n",
            "Epoch 24/30\n",
            "60000/60000 [==============================] - 8s 129us/sample - loss: 0.1762 - acc: 0.9327 - val_loss: 0.4079 - val_acc: 0.8910\n",
            "Epoch 25/30\n",
            "60000/60000 [==============================] - 8s 132us/sample - loss: 0.1733 - acc: 0.9345 - val_loss: 0.4012 - val_acc: 0.8900\n",
            "Epoch 26/30\n",
            "60000/60000 [==============================] - 8s 130us/sample - loss: 0.1704 - acc: 0.9349 - val_loss: 0.4156 - val_acc: 0.8896\n",
            "Epoch 27/30\n",
            "60000/60000 [==============================] - 9s 146us/sample - loss: 0.1654 - acc: 0.9384 - val_loss: 0.4257 - val_acc: 0.8885\n",
            "Epoch 28/30\n",
            "60000/60000 [==============================] - 8s 135us/sample - loss: 0.1640 - acc: 0.9370 - val_loss: 0.4100 - val_acc: 0.8900\n",
            "Epoch 29/30\n",
            "60000/60000 [==============================] - 8s 130us/sample - loss: 0.1637 - acc: 0.9389 - val_loss: 0.4206 - val_acc: 0.8933\n",
            "Epoch 30/30\n",
            "60000/60000 [==============================] - 8s 129us/sample - loss: 0.1580 - acc: 0.9392 - val_loss: 0.4393 - val_acc: 0.8897\n"
          ],
          "name": "stdout"
        },
        {
          "output_type": "execute_result",
          "data": {
            "text/plain": [
              "<tensorflow.python.keras.callbacks.History at 0x7fdd26796908>"
            ]
          },
          "metadata": {
            "tags": []
          },
          "execution_count": 7
        }
      ]
    },
    {
      "metadata": {
        "id": "qWAUQs6JM_MJ",
        "colab_type": "code",
        "colab": {
          "base_uri": "https://localhost:8080/",
          "height": 34
        },
        "outputId": "e475720d-3e44-4fbd-93cc-8efbb6cf99f7"
      },
      "cell_type": "code",
      "source": [
        "score_val = model.evaluate(x_test, y_test_class, verbose=1)"
      ],
      "execution_count": 8,
      "outputs": [
        {
          "output_type": "stream",
          "text": [
            "10000/10000 [==============================] - 1s 51us/sample - loss: 0.4393 - acc: 0.8897\n"
          ],
          "name": "stdout"
        }
      ]
    },
    {
      "metadata": {
        "id": "5VAYAJcoPzcL",
        "colab_type": "code",
        "colab": {
          "base_uri": "https://localhost:8080/",
          "height": 51
        },
        "outputId": "a9284426-6e43-4378-b75e-7a3a391d41df"
      },
      "cell_type": "code",
      "source": [
        "print('Test loss:', score_val[0])\n",
        "print('Test accuracy:', score_val[1])"
      ],
      "execution_count": 9,
      "outputs": [
        {
          "output_type": "stream",
          "text": [
            "Test loss: 0.4393478276491165\n",
            "Test accuracy: 0.8897\n"
          ],
          "name": "stdout"
        }
      ]
    },
    {
      "metadata": {
        "id": "KMmbXZ86P3jh",
        "colab_type": "code",
        "colab": {}
      },
      "cell_type": "code",
      "source": [
        ""
      ],
      "execution_count": 0,
      "outputs": []
    }
  ]
}